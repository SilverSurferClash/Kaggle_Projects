{
  "nbformat": 4,
  "nbformat_minor": 0,
  "metadata": {
    "colab": {
      "name": "Housing_Regression.ipynb",
      "provenance": [],
      "mount_file_id": "1dSN86Nsc5pXctNj6YMmIC7eT_3kknBmh",
      "authorship_tag": "ABX9TyOmGeII8UlY3ewG6c6uvtQY",
      "include_colab_link": true
    },
    "kernelspec": {
      "name": "python3",
      "display_name": "Python 3"
    },
    "language_info": {
      "name": "python"
    }
  },
  "cells": [
    {
      "cell_type": "markdown",
      "metadata": {
        "id": "view-in-github",
        "colab_type": "text"
      },
      "source": [
        "<a href=\"https://colab.research.google.com/github/SilverSurferClash/Kaggle_Projects/blob/main/Housing_Regression.ipynb\" target=\"_parent\"><img src=\"https://colab.research.google.com/assets/colab-badge.svg\" alt=\"Open In Colab\"/></a>"
      ]
    },
    {
      "cell_type": "code",
      "execution_count": 1,
      "metadata": {
        "id": "G7HIymz1Q-A3"
      },
      "outputs": [],
      "source": [
        "import pandas as pd\n",
        "import numpy as np\n",
        "import os\n"
      ]
    },
    {
      "cell_type": "code",
      "source": [
        "# Functions to ensure that a GPU is used\n",
        "\n",
        "#gpu = !nvidia-smi -L\n",
        "#print(gpu[0])\n",
        "#assert any(x in gpu[0] for x in ['P100', 'V100', \"K80\"])\n"
      ],
      "metadata": {
        "id": "I1xY5BngRBOI"
      },
      "execution_count": 2,
      "outputs": []
    },
    {
      "cell_type": "code",
      "source": [
        ""
      ],
      "metadata": {
        "id": "5I9-CEsLRLTm"
      },
      "execution_count": null,
      "outputs": []
    }
  ]
}