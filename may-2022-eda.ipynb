{
 "cells": [
  {
   "cell_type": "code",
   "execution_count": 1,
   "id": "674540e6",
   "metadata": {
    "_cell_guid": "b1076dfc-b9ad-4769-8c92-a6c4dae69d19",
    "_uuid": "8f2839f25d086af736a60e9eeb907d3b93b6e0e5",
    "execution": {
     "iopub.execute_input": "2022-05-08T16:13:36.214713Z",
     "iopub.status.busy": "2022-05-08T16:13:36.214119Z",
     "iopub.status.idle": "2022-05-08T16:13:37.398196Z",
     "shell.execute_reply": "2022-05-08T16:13:37.397448Z"
    },
    "papermill": {
     "duration": 1.200759,
     "end_time": "2022-05-08T16:13:37.400899",
     "exception": false,
     "start_time": "2022-05-08T16:13:36.200140",
     "status": "completed"
    },
    "tags": []
   },
   "outputs": [],
   "source": [
    "# This Python 3 environment comes with many helpful analytics libraries installed\n",
    "# It is defined by the kaggle/python Docker image: https://github.com/kaggle/docker-python\n",
    "# For example, here's several helpful packages to load\n",
    "\n",
    "import numpy as np # linear algebra\n",
    "import pandas as pd # data processing, CSV file I/O (e.g. pd.read_csv)\n",
    "\n",
    "# Input data files are available in the read-only \"../input/\" directory\n",
    "# For example, running this (by clicking run or pressing Shift+Enter) will list all files under the input directory\n",
    "\n",
    "\n",
    "# Visualisation\n",
    "\n",
    "import seaborn as sns\n",
    "import matplotlib.pyplot as plt\n",
    "\n"
   ]
  },
  {
   "cell_type": "code",
   "execution_count": 2,
   "id": "3dd13ac9",
   "metadata": {
    "execution": {
     "iopub.execute_input": "2022-05-08T16:13:37.426984Z",
     "iopub.status.busy": "2022-05-08T16:13:37.426211Z",
     "iopub.status.idle": "2022-05-08T16:13:53.037714Z",
     "shell.execute_reply": "2022-05-08T16:13:53.036765Z"
    },
    "papermill": {
     "duration": 15.627688,
     "end_time": "2022-05-08T16:13:53.040406",
     "exception": false,
     "start_time": "2022-05-08T16:13:37.412718",
     "status": "completed"
    },
    "tags": []
   },
   "outputs": [],
   "source": [
    "# Read in the data\n",
    "train = pd.read_csv(\"../input/tabular-playground-series-may-2022/train.csv\")\n",
    "test = pd.read_csv(\"../input/tabular-playground-series-may-2022/test.csv\")"
   ]
  },
  {
   "cell_type": "code",
   "execution_count": 3,
   "id": "2d47ea05",
   "metadata": {
    "execution": {
     "iopub.execute_input": "2022-05-08T16:13:53.065820Z",
     "iopub.status.busy": "2022-05-08T16:13:53.065524Z",
     "iopub.status.idle": "2022-05-08T16:13:54.431781Z",
     "shell.execute_reply": "2022-05-08T16:13:54.430700Z"
    },
    "papermill": {
     "duration": 1.382102,
     "end_time": "2022-05-08T16:13:54.434062",
     "exception": false,
     "start_time": "2022-05-08T16:13:53.051960",
     "status": "completed"
    },
    "tags": []
   },
   "outputs": [
    {
     "name": "stdout",
     "output_type": "stream",
     "text": [
      "<class 'pandas.core.frame.DataFrame'>\n",
      "RangeIndex: 900000 entries, 0 to 899999\n",
      "Data columns (total 33 columns):\n",
      " #   Column  Non-Null Count   Dtype  \n",
      "---  ------  --------------   -----  \n",
      " 0   id      900000 non-null  int64  \n",
      " 1   f_00    900000 non-null  float64\n",
      " 2   f_01    900000 non-null  float64\n",
      " 3   f_02    900000 non-null  float64\n",
      " 4   f_03    900000 non-null  float64\n",
      " 5   f_04    900000 non-null  float64\n",
      " 6   f_05    900000 non-null  float64\n",
      " 7   f_06    900000 non-null  float64\n",
      " 8   f_07    900000 non-null  int64  \n",
      " 9   f_08    900000 non-null  int64  \n",
      " 10  f_09    900000 non-null  int64  \n",
      " 11  f_10    900000 non-null  int64  \n",
      " 12  f_11    900000 non-null  int64  \n",
      " 13  f_12    900000 non-null  int64  \n",
      " 14  f_13    900000 non-null  int64  \n",
      " 15  f_14    900000 non-null  int64  \n",
      " 16  f_15    900000 non-null  int64  \n",
      " 17  f_16    900000 non-null  int64  \n",
      " 18  f_17    900000 non-null  int64  \n",
      " 19  f_18    900000 non-null  int64  \n",
      " 20  f_19    900000 non-null  float64\n",
      " 21  f_20    900000 non-null  float64\n",
      " 22  f_21    900000 non-null  float64\n",
      " 23  f_22    900000 non-null  float64\n",
      " 24  f_23    900000 non-null  float64\n",
      " 25  f_24    900000 non-null  float64\n",
      " 26  f_25    900000 non-null  float64\n",
      " 27  f_26    900000 non-null  float64\n",
      " 28  f_27    900000 non-null  object \n",
      " 29  f_28    900000 non-null  float64\n",
      " 30  f_29    900000 non-null  int64  \n",
      " 31  f_30    900000 non-null  int64  \n",
      " 32  target  900000 non-null  int64  \n",
      "dtypes: float64(16), int64(16), object(1)\n",
      "memory usage: 226.6+ MB\n"
     ]
    },
    {
     "data": {
      "text/html": [
       "<div>\n",
       "<style scoped>\n",
       "    .dataframe tbody tr th:only-of-type {\n",
       "        vertical-align: middle;\n",
       "    }\n",
       "\n",
       "    .dataframe tbody tr th {\n",
       "        vertical-align: top;\n",
       "    }\n",
       "\n",
       "    .dataframe thead th {\n",
       "        text-align: right;\n",
       "    }\n",
       "</style>\n",
       "<table border=\"1\" class=\"dataframe\">\n",
       "  <thead>\n",
       "    <tr style=\"text-align: right;\">\n",
       "      <th></th>\n",
       "      <th>id</th>\n",
       "      <th>f_00</th>\n",
       "      <th>f_01</th>\n",
       "      <th>f_02</th>\n",
       "      <th>f_03</th>\n",
       "      <th>f_04</th>\n",
       "      <th>f_05</th>\n",
       "      <th>f_06</th>\n",
       "      <th>f_07</th>\n",
       "      <th>f_08</th>\n",
       "      <th>...</th>\n",
       "      <th>f_21</th>\n",
       "      <th>f_22</th>\n",
       "      <th>f_23</th>\n",
       "      <th>f_24</th>\n",
       "      <th>f_25</th>\n",
       "      <th>f_26</th>\n",
       "      <th>f_28</th>\n",
       "      <th>f_29</th>\n",
       "      <th>f_30</th>\n",
       "      <th>target</th>\n",
       "    </tr>\n",
       "  </thead>\n",
       "  <tbody>\n",
       "    <tr>\n",
       "      <th>count</th>\n",
       "      <td>900000.000000</td>\n",
       "      <td>900000.000000</td>\n",
       "      <td>900000.000000</td>\n",
       "      <td>900000.000000</td>\n",
       "      <td>900000.000000</td>\n",
       "      <td>900000.000000</td>\n",
       "      <td>900000.000000</td>\n",
       "      <td>900000.000000</td>\n",
       "      <td>900000.000000</td>\n",
       "      <td>900000.000000</td>\n",
       "      <td>...</td>\n",
       "      <td>900000.000000</td>\n",
       "      <td>900000.000000</td>\n",
       "      <td>900000.000000</td>\n",
       "      <td>900000.000000</td>\n",
       "      <td>900000.000000</td>\n",
       "      <td>900000.000000</td>\n",
       "      <td>900000.000000</td>\n",
       "      <td>900000.000000</td>\n",
       "      <td>900000.000000</td>\n",
       "      <td>900000.000000</td>\n",
       "    </tr>\n",
       "    <tr>\n",
       "      <th>mean</th>\n",
       "      <td>449999.500000</td>\n",
       "      <td>-0.000286</td>\n",
       "      <td>0.001165</td>\n",
       "      <td>0.001174</td>\n",
       "      <td>-0.001368</td>\n",
       "      <td>-0.000571</td>\n",
       "      <td>0.000284</td>\n",
       "      <td>-0.000709</td>\n",
       "      <td>2.031460</td>\n",
       "      <td>2.057998</td>\n",
       "      <td>...</td>\n",
       "      <td>-0.156307</td>\n",
       "      <td>-0.009273</td>\n",
       "      <td>-0.369459</td>\n",
       "      <td>-0.342738</td>\n",
       "      <td>0.176549</td>\n",
       "      <td>0.357591</td>\n",
       "      <td>-0.380876</td>\n",
       "      <td>0.345661</td>\n",
       "      <td>1.002654</td>\n",
       "      <td>0.486488</td>\n",
       "    </tr>\n",
       "    <tr>\n",
       "      <th>std</th>\n",
       "      <td>259807.765473</td>\n",
       "      <td>0.998888</td>\n",
       "      <td>0.999193</td>\n",
       "      <td>1.000514</td>\n",
       "      <td>1.000175</td>\n",
       "      <td>1.000167</td>\n",
       "      <td>0.999875</td>\n",
       "      <td>0.999942</td>\n",
       "      <td>1.656172</td>\n",
       "      <td>1.590955</td>\n",
       "      <td>...</td>\n",
       "      <td>2.484706</td>\n",
       "      <td>2.450797</td>\n",
       "      <td>2.453405</td>\n",
       "      <td>2.386941</td>\n",
       "      <td>2.416959</td>\n",
       "      <td>2.476020</td>\n",
       "      <td>238.773054</td>\n",
       "      <td>0.475584</td>\n",
       "      <td>0.818989</td>\n",
       "      <td>0.499818</td>\n",
       "    </tr>\n",
       "    <tr>\n",
       "      <th>min</th>\n",
       "      <td>0.000000</td>\n",
       "      <td>-4.599856</td>\n",
       "      <td>-4.682199</td>\n",
       "      <td>-4.642676</td>\n",
       "      <td>-4.658816</td>\n",
       "      <td>-4.748501</td>\n",
       "      <td>-4.750214</td>\n",
       "      <td>-4.842919</td>\n",
       "      <td>0.000000</td>\n",
       "      <td>0.000000</td>\n",
       "      <td>...</td>\n",
       "      <td>-13.310146</td>\n",
       "      <td>-11.853530</td>\n",
       "      <td>-12.301097</td>\n",
       "      <td>-11.416189</td>\n",
       "      <td>-11.918306</td>\n",
       "      <td>-14.300577</td>\n",
       "      <td>-1229.753052</td>\n",
       "      <td>0.000000</td>\n",
       "      <td>0.000000</td>\n",
       "      <td>0.000000</td>\n",
       "    </tr>\n",
       "    <tr>\n",
       "      <th>25%</th>\n",
       "      <td>224999.750000</td>\n",
       "      <td>-0.675490</td>\n",
       "      <td>-0.675162</td>\n",
       "      <td>-0.674369</td>\n",
       "      <td>-0.676114</td>\n",
       "      <td>-0.675909</td>\n",
       "      <td>-0.673437</td>\n",
       "      <td>-0.674876</td>\n",
       "      <td>1.000000</td>\n",
       "      <td>1.000000</td>\n",
       "      <td>...</td>\n",
       "      <td>-1.820063</td>\n",
       "      <td>-1.645585</td>\n",
       "      <td>-2.019739</td>\n",
       "      <td>-1.955956</td>\n",
       "      <td>-1.440424</td>\n",
       "      <td>-1.261598</td>\n",
       "      <td>-159.427418</td>\n",
       "      <td>0.000000</td>\n",
       "      <td>0.000000</td>\n",
       "      <td>0.000000</td>\n",
       "    </tr>\n",
       "    <tr>\n",
       "      <th>50%</th>\n",
       "      <td>449999.500000</td>\n",
       "      <td>0.001144</td>\n",
       "      <td>0.002014</td>\n",
       "      <td>0.002218</td>\n",
       "      <td>-0.002227</td>\n",
       "      <td>-0.001662</td>\n",
       "      <td>-0.000438</td>\n",
       "      <td>-0.001492</td>\n",
       "      <td>2.000000</td>\n",
       "      <td>2.000000</td>\n",
       "      <td>...</td>\n",
       "      <td>-0.152668</td>\n",
       "      <td>0.030850</td>\n",
       "      <td>-0.390966</td>\n",
       "      <td>-0.340746</td>\n",
       "      <td>0.160912</td>\n",
       "      <td>0.404212</td>\n",
       "      <td>-0.519808</td>\n",
       "      <td>0.000000</td>\n",
       "      <td>1.000000</td>\n",
       "      <td>0.000000</td>\n",
       "    </tr>\n",
       "    <tr>\n",
       "      <th>75%</th>\n",
       "      <td>674999.250000</td>\n",
       "      <td>0.674337</td>\n",
       "      <td>0.675021</td>\n",
       "      <td>0.677505</td>\n",
       "      <td>0.672544</td>\n",
       "      <td>0.673789</td>\n",
       "      <td>0.675028</td>\n",
       "      <td>0.674749</td>\n",
       "      <td>3.000000</td>\n",
       "      <td>3.000000</td>\n",
       "      <td>...</td>\n",
       "      <td>1.507071</td>\n",
       "      <td>1.661676</td>\n",
       "      <td>1.255408</td>\n",
       "      <td>1.266673</td>\n",
       "      <td>1.795928</td>\n",
       "      <td>2.028219</td>\n",
       "      <td>158.987357</td>\n",
       "      <td>1.000000</td>\n",
       "      <td>2.000000</td>\n",
       "      <td>1.000000</td>\n",
       "    </tr>\n",
       "    <tr>\n",
       "      <th>max</th>\n",
       "      <td>899999.000000</td>\n",
       "      <td>4.749301</td>\n",
       "      <td>4.815699</td>\n",
       "      <td>4.961982</td>\n",
       "      <td>4.454920</td>\n",
       "      <td>4.948983</td>\n",
       "      <td>4.971881</td>\n",
       "      <td>4.822668</td>\n",
       "      <td>15.000000</td>\n",
       "      <td>16.000000</td>\n",
       "      <td>...</td>\n",
       "      <td>14.455426</td>\n",
       "      <td>11.344080</td>\n",
       "      <td>12.247100</td>\n",
       "      <td>12.389844</td>\n",
       "      <td>12.529179</td>\n",
       "      <td>12.913041</td>\n",
       "      <td>1229.562577</td>\n",
       "      <td>1.000000</td>\n",
       "      <td>2.000000</td>\n",
       "      <td>1.000000</td>\n",
       "    </tr>\n",
       "  </tbody>\n",
       "</table>\n",
       "<p>8 rows × 32 columns</p>\n",
       "</div>"
      ],
      "text/plain": [
       "                  id           f_00           f_01           f_02  \\\n",
       "count  900000.000000  900000.000000  900000.000000  900000.000000   \n",
       "mean   449999.500000      -0.000286       0.001165       0.001174   \n",
       "std    259807.765473       0.998888       0.999193       1.000514   \n",
       "min         0.000000      -4.599856      -4.682199      -4.642676   \n",
       "25%    224999.750000      -0.675490      -0.675162      -0.674369   \n",
       "50%    449999.500000       0.001144       0.002014       0.002218   \n",
       "75%    674999.250000       0.674337       0.675021       0.677505   \n",
       "max    899999.000000       4.749301       4.815699       4.961982   \n",
       "\n",
       "                f_03           f_04           f_05           f_06  \\\n",
       "count  900000.000000  900000.000000  900000.000000  900000.000000   \n",
       "mean       -0.001368      -0.000571       0.000284      -0.000709   \n",
       "std         1.000175       1.000167       0.999875       0.999942   \n",
       "min        -4.658816      -4.748501      -4.750214      -4.842919   \n",
       "25%        -0.676114      -0.675909      -0.673437      -0.674876   \n",
       "50%        -0.002227      -0.001662      -0.000438      -0.001492   \n",
       "75%         0.672544       0.673789       0.675028       0.674749   \n",
       "max         4.454920       4.948983       4.971881       4.822668   \n",
       "\n",
       "                f_07           f_08  ...           f_21           f_22  \\\n",
       "count  900000.000000  900000.000000  ...  900000.000000  900000.000000   \n",
       "mean        2.031460       2.057998  ...      -0.156307      -0.009273   \n",
       "std         1.656172       1.590955  ...       2.484706       2.450797   \n",
       "min         0.000000       0.000000  ...     -13.310146     -11.853530   \n",
       "25%         1.000000       1.000000  ...      -1.820063      -1.645585   \n",
       "50%         2.000000       2.000000  ...      -0.152668       0.030850   \n",
       "75%         3.000000       3.000000  ...       1.507071       1.661676   \n",
       "max        15.000000      16.000000  ...      14.455426      11.344080   \n",
       "\n",
       "                f_23           f_24           f_25           f_26  \\\n",
       "count  900000.000000  900000.000000  900000.000000  900000.000000   \n",
       "mean       -0.369459      -0.342738       0.176549       0.357591   \n",
       "std         2.453405       2.386941       2.416959       2.476020   \n",
       "min       -12.301097     -11.416189     -11.918306     -14.300577   \n",
       "25%        -2.019739      -1.955956      -1.440424      -1.261598   \n",
       "50%        -0.390966      -0.340746       0.160912       0.404212   \n",
       "75%         1.255408       1.266673       1.795928       2.028219   \n",
       "max        12.247100      12.389844      12.529179      12.913041   \n",
       "\n",
       "                f_28           f_29           f_30         target  \n",
       "count  900000.000000  900000.000000  900000.000000  900000.000000  \n",
       "mean       -0.380876       0.345661       1.002654       0.486488  \n",
       "std       238.773054       0.475584       0.818989       0.499818  \n",
       "min     -1229.753052       0.000000       0.000000       0.000000  \n",
       "25%      -159.427418       0.000000       0.000000       0.000000  \n",
       "50%        -0.519808       0.000000       1.000000       0.000000  \n",
       "75%       158.987357       1.000000       2.000000       1.000000  \n",
       "max      1229.562577       1.000000       2.000000       1.000000  \n",
       "\n",
       "[8 rows x 32 columns]"
      ]
     },
     "execution_count": 3,
     "metadata": {},
     "output_type": "execute_result"
    }
   ],
   "source": [
    "# High level data overview\n",
    "train.info()\n",
    "train.describe()"
   ]
  },
  {
   "cell_type": "code",
   "execution_count": 4,
   "id": "4a9ea416",
   "metadata": {
    "execution": {
     "iopub.execute_input": "2022-05-08T16:13:54.460886Z",
     "iopub.status.busy": "2022-05-08T16:13:54.460592Z",
     "iopub.status.idle": "2022-05-08T16:13:54.679452Z",
     "shell.execute_reply": "2022-05-08T16:13:54.678408Z"
    },
    "papermill": {
     "duration": 0.234797,
     "end_time": "2022-05-08T16:13:54.681681",
     "exception": false,
     "start_time": "2022-05-08T16:13:54.446884",
     "status": "completed"
    },
    "tags": []
   },
   "outputs": [
    {
     "data": {
      "image/png": "[encoded data removed]",
      "text/plain": [
       "<Figure size 432x288 with 1 Axes>"
      ]
     },
     "metadata": {},
     "output_type": "display_data"
    }
   ],
   "source": [
    "#Set the theme for seaborn\n",
    "sns.set_theme(style=\"darkgrid\")\n",
    "\n",
    "#Understand the distribution of the target variable\n",
    "\n",
    "dis_target = sns.countplot(x = \"target\", data = train)"
   ]
  },
  {
   "cell_type": "code",
   "execution_count": 5,
   "id": "9956b058",
   "metadata": {
    "execution": {
     "iopub.execute_input": "2022-05-08T16:13:54.710796Z",
     "iopub.status.busy": "2022-05-08T16:13:54.709976Z",
     "iopub.status.idle": "2022-05-08T16:13:54.861416Z",
     "shell.execute_reply": "2022-05-08T16:13:54.860420Z"
    },
    "papermill": {
     "duration": 0.169074,
     "end_time": "2022-05-08T16:13:54.864326",
     "exception": false,
     "start_time": "2022-05-08T16:13:54.695252",
     "status": "completed"
    },
    "tags": []
   },
   "outputs": [
    {
     "data": {
      "text/plain": [
       "id        0\n",
       "f_00      0\n",
       "f_01      0\n",
       "f_02      0\n",
       "f_03      0\n",
       "f_04      0\n",
       "f_05      0\n",
       "f_06      0\n",
       "f_07      0\n",
       "f_08      0\n",
       "f_09      0\n",
       "f_10      0\n",
       "f_11      0\n",
       "f_12      0\n",
       "f_13      0\n",
       "f_14      0\n",
       "f_15      0\n",
       "f_16      0\n",
       "f_17      0\n",
       "f_18      0\n",
       "f_19      0\n",
       "f_20      0\n",
       "f_21      0\n",
       "f_22      0\n",
       "f_23      0\n",
       "f_24      0\n",
       "f_25      0\n",
       "f_26      0\n",
       "f_27      0\n",
       "f_28      0\n",
       "f_29      0\n",
       "f_30      0\n",
       "target    0\n",
       "dtype: int64"
      ]
     },
     "execution_count": 5,
     "metadata": {},
     "output_type": "execute_result"
    }
   ],
   "source": [
    "# Understand missing values - % of values missing by category\n",
    "train.isnull().sum()\n",
    "\n",
    "# No missing values - no need for imputation"
   ]
  },
  {
   "cell_type": "code",
   "execution_count": 6,
   "id": "dd707a81",
   "metadata": {
    "execution": {
     "iopub.execute_input": "2022-05-08T16:13:54.893711Z",
     "iopub.status.busy": "2022-05-08T16:13:54.892878Z",
     "iopub.status.idle": "2022-05-08T16:13:54.896675Z",
     "shell.execute_reply": "2022-05-08T16:13:54.896095Z"
    },
    "papermill": {
     "duration": 0.020603,
     "end_time": "2022-05-08T16:13:54.898507",
     "exception": false,
     "start_time": "2022-05-08T16:13:54.877904",
     "status": "completed"
    },
    "tags": []
   },
   "outputs": [],
   "source": [
    "# Understand data types of the predictors - \n",
    "#Inform: Casting of predictors with right data type"
   ]
  },
  {
   "cell_type": "code",
   "execution_count": 7,
   "id": "48842ffa",
   "metadata": {
    "execution": {
     "iopub.execute_input": "2022-05-08T16:13:54.927841Z",
     "iopub.status.busy": "2022-05-08T16:13:54.927320Z",
     "iopub.status.idle": "2022-05-08T16:13:54.931040Z",
     "shell.execute_reply": "2022-05-08T16:13:54.930468Z"
    },
    "papermill": {
     "duration": 0.020775,
     "end_time": "2022-05-08T16:13:54.933045",
     "exception": false,
     "start_time": "2022-05-08T16:13:54.912270",
     "status": "completed"
    },
    "tags": []
   },
   "outputs": [],
   "source": [
    "# Understand the distribution of the predictors - \n",
    "#Informs feature transformation"
   ]
  },
  {
   "cell_type": "code",
   "execution_count": 8,
   "id": "cf5a2cf4",
   "metadata": {
    "execution": {
     "iopub.execute_input": "2022-05-08T16:13:54.962394Z",
     "iopub.status.busy": "2022-05-08T16:13:54.962135Z",
     "iopub.status.idle": "2022-05-08T16:13:54.965484Z",
     "shell.execute_reply": "2022-05-08T16:13:54.964633Z"
    },
    "papermill": {
     "duration": 0.020208,
     "end_time": "2022-05-08T16:13:54.967350",
     "exception": false,
     "start_time": "2022-05-08T16:13:54.947142",
     "status": "completed"
    },
    "tags": []
   },
   "outputs": [],
   "source": [
    "# Identify high cardinality factors - \n",
    "#Informs: Factor collapsing"
   ]
  },
  {
   "cell_type": "code",
   "execution_count": 9,
   "id": "fc3a2ca1",
   "metadata": {
    "execution": {
     "iopub.execute_input": "2022-05-08T16:13:54.997661Z",
     "iopub.status.busy": "2022-05-08T16:13:54.997356Z",
     "iopub.status.idle": "2022-05-08T16:13:55.001338Z",
     "shell.execute_reply": "2022-05-08T16:13:55.000430Z"
    },
    "papermill": {
     "duration": 0.021214,
     "end_time": "2022-05-08T16:13:55.003345",
     "exception": false,
     "start_time": "2022-05-08T16:13:54.982131",
     "status": "completed"
    },
    "tags": []
   },
   "outputs": [],
   "source": [
    "# Understand how the predictors behave relative to the target variable\n",
    "# Understand the correlation of the target variable \n",
    "# with the individual predictors \n",
    "# This might result in PCA - investigate further"
   ]
  },
  {
   "cell_type": "code",
   "execution_count": 10,
   "id": "ab0324d4",
   "metadata": {
    "execution": {
     "iopub.execute_input": "2022-05-08T16:13:55.033694Z",
     "iopub.status.busy": "2022-05-08T16:13:55.032968Z",
     "iopub.status.idle": "2022-05-08T16:13:55.036159Z",
     "shell.execute_reply": "2022-05-08T16:13:55.035573Z"
    },
    "papermill": {
     "duration": 0.020314,
     "end_time": "2022-05-08T16:13:55.038050",
     "exception": false,
     "start_time": "2022-05-08T16:13:55.017736",
     "status": "completed"
    },
    "tags": []
   },
   "outputs": [],
   "source": [
    "# Question: What EDA helps to determine the best encoding \n",
    "# for categorical features"
   ]
  },
  {
   "cell_type": "code",
   "execution_count": null,
   "id": "39c9536f",
   "metadata": {
    "papermill": {
     "duration": 0.014358,
     "end_time": "2022-05-08T16:13:55.066975",
     "exception": false,
     "start_time": "2022-05-08T16:13:55.052617",
     "status": "completed"
    },
    "tags": []
   },
   "outputs": [],
   "source": []
  }
 ],
 "metadata": {
  "kernelspec": {
   "display_name": "Python 3",
   "language": "python",
   "name": "python3"
  },
  "language_info": {
   "codemirror_mode": {
    "name": "ipython",
    "version": 3
   },
   "file_extension": ".py",
   "mimetype": "text/x-python",
   "name": "python",
   "nbconvert_exporter": "python",
   "pygments_lexer": "ipython3",
   "version": "3.7.12"
  },
  "papermill": {
   "default_parameters": {},
   "duration": 29.763471,
   "end_time": "2022-05-08T16:13:55.802456",
   "environment_variables": {},
   "exception": null,
   "input_path": "__notebook__.ipynb",
   "output_path": "__notebook__.ipynb",
   "parameters": {},
   "start_time": "2022-05-08T16:13:26.038985",
   "version": "2.3.4"
  }
 },
 "nbformat": 4,
 "nbformat_minor": 5
}
