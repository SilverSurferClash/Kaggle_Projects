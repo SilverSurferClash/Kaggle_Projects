{
 "cells": [
  {
   "cell_type": "code",
   "execution_count": 1,
   "id": "e7fb7d3d",
   "metadata": {
    "_cell_guid": "b1076dfc-b9ad-4769-8c92-a6c4dae69d19",
    "_uuid": "8f2839f25d086af736a60e9eeb907d3b93b6e0e5",
    "execution": {
     "iopub.execute_input": "2022-03-02T21:18:04.991891Z",
     "iopub.status.busy": "2022-03-02T21:18:04.990888Z",
     "iopub.status.idle": "2022-03-02T21:18:05.001086Z",
     "shell.execute_reply": "2022-03-02T21:18:05.001879Z",
     "shell.execute_reply.started": "2022-03-02T19:37:29.412619Z"
    },
    "papermill": {
     "duration": 0.032804,
     "end_time": "2022-03-02T21:18:05.002365",
     "exception": false,
     "start_time": "2022-03-02T21:18:04.969561",
     "status": "completed"
    },
    "tags": []
   },
   "outputs": [
    {
     "name": "stdout",
     "output_type": "stream",
     "text": [
      "/kaggle/input/tabular-playground-series-mar-2022/sample_submission.csv\n",
      "/kaggle/input/tabular-playground-series-mar-2022/train.csv\n",
      "/kaggle/input/tabular-playground-series-mar-2022/test.csv\n"
     ]
    }
   ],
   "source": [
    "# This Python 3 environment comes with many helpful analytics libraries installed\n",
    "# It is defined by the kaggle/python Docker image: https://github.com/kaggle/docker-python\n",
    "# For example, here's several helpful packages to load\n",
    "\n",
    "import numpy as np # linear algebra\n",
    "import pandas as pd # data processing, CSV file I/O (e.g. pd.read_csv)\n",
    "\n",
    "# Input data files are available in the read-only \"../input/\" directory\n",
    "# For example, running this (by clicking run or pressing Shift+Enter) will list all files under the input directory\n",
    "\n",
    "import os\n",
    "for dirname, _, filenames in os.walk('/kaggle/input'):\n",
    "    for filename in filenames:\n",
    "        print(os.path.join(dirname, filename))\n",
    "\n",
    "# You can write up to 20GB to the current directory (/kaggle/working/) that gets preserved as output when you create a version using \"Save & Run All\" \n",
    "# You can also write temporary files to /kaggle/temp/, but they won't be saved outside of the current session"
   ]
  },
  {
   "cell_type": "code",
   "execution_count": 2,
   "id": "8ce40909",
   "metadata": {
    "execution": {
     "iopub.execute_input": "2022-03-02T21:18:05.032941Z",
     "iopub.status.busy": "2022-03-02T21:18:05.032214Z",
     "iopub.status.idle": "2022-03-02T21:18:06.173777Z",
     "shell.execute_reply": "2022-03-02T21:18:06.174434Z",
     "shell.execute_reply.started": "2022-03-02T19:45:30.814204Z"
    },
    "papermill": {
     "duration": 1.159041,
     "end_time": "2022-03-02T21:18:06.174686",
     "exception": false,
     "start_time": "2022-03-02T21:18:05.015645",
     "status": "completed"
    },
    "tags": []
   },
   "outputs": [],
   "source": [
    "import matplotlib.pyplot as plt\n",
    "import seaborn as sns\n",
    "import warnings\n",
    "warnings.filterwarnings(\"ignore\")"
   ]
  },
  {
   "cell_type": "code",
   "execution_count": 3,
   "id": "6ef41ef1",
   "metadata": {
    "execution": {
     "iopub.execute_input": "2022-03-02T21:18:06.203698Z",
     "iopub.status.busy": "2022-03-02T21:18:06.202721Z",
     "iopub.status.idle": "2022-03-02T21:18:07.088667Z",
     "shell.execute_reply": "2022-03-02T21:18:07.088140Z",
     "shell.execute_reply.started": "2022-03-02T21:15:35.920835Z"
    },
    "papermill": {
     "duration": 0.902157,
     "end_time": "2022-03-02T21:18:07.088823",
     "exception": false,
     "start_time": "2022-03-02T21:18:06.186666",
     "status": "completed"
    },
    "tags": []
   },
   "outputs": [],
   "source": [
    "train_import = pd.read_csv(\"../input/tabular-playground-series-mar-2022/train.csv\")\n",
    "test_import = pd.read_csv(\"../input/tabular-playground-series-mar-2022/test.csv\")"
   ]
  },
  {
   "cell_type": "code",
   "execution_count": 4,
   "id": "c2c56736",
   "metadata": {
    "execution": {
     "iopub.execute_input": "2022-03-02T21:18:07.116514Z",
     "iopub.status.busy": "2022-03-02T21:18:07.115691Z",
     "iopub.status.idle": "2022-03-02T21:18:07.148116Z",
     "shell.execute_reply": "2022-03-02T21:18:07.148605Z",
     "shell.execute_reply.started": "2022-03-02T21:15:38.253794Z"
    },
    "papermill": {
     "duration": 0.04824,
     "end_time": "2022-03-02T21:18:07.148819",
     "exception": false,
     "start_time": "2022-03-02T21:18:07.100579",
     "status": "completed"
    },
    "tags": []
   },
   "outputs": [],
   "source": [
    "df = train_import.copy()"
   ]
  },
  {
   "cell_type": "code",
   "execution_count": 5,
   "id": "dfdbeb8e",
   "metadata": {
    "execution": {
     "iopub.execute_input": "2022-03-02T21:18:07.181737Z",
     "iopub.status.busy": "2022-03-02T21:18:07.181043Z",
     "iopub.status.idle": "2022-03-02T21:18:07.573924Z",
     "shell.execute_reply": "2022-03-02T21:18:07.574391Z",
     "shell.execute_reply.started": "2022-03-02T21:15:41.222350Z"
    },
    "papermill": {
     "duration": 0.414075,
     "end_time": "2022-03-02T21:18:07.574587",
     "exception": false,
     "start_time": "2022-03-02T21:18:07.160512",
     "status": "completed"
    },
    "tags": []
   },
   "outputs": [
    {
     "data": {
      "text/plain": [
       "34    26498\n",
       "40    19797\n",
       "47    19418\n",
       "29    19236\n",
       "48    19013\n",
       "      ...  \n",
       "95      140\n",
       "97      104\n",
       "98       87\n",
       "1        48\n",
       "99       42\n",
       "Name: congestion, Length: 101, dtype: int64"
      ]
     },
     "execution_count": 5,
     "metadata": {},
     "output_type": "execute_result"
    },
    {
     "data": {
      "image/png": "[encoded data removed]",
      "text/plain": [
       "<Figure size 432x288 with 1 Axes>"
      ]
     },
     "metadata": {
      "needs_background": "light"
     },
     "output_type": "display_data"
    }
   ],
   "source": [
    "df[\"congestion\"].plot(kind = \"hist\")\n",
    "df[\"congestion\"].value_counts()"
   ]
  },
  {
   "cell_type": "code",
   "execution_count": 6,
   "id": "1cd8ee86",
   "metadata": {
    "execution": {
     "iopub.execute_input": "2022-03-02T21:18:07.602269Z",
     "iopub.status.busy": "2022-03-02T21:18:07.601281Z",
     "iopub.status.idle": "2022-03-02T21:18:07.837854Z",
     "shell.execute_reply": "2022-03-02T21:18:07.838427Z",
     "shell.execute_reply.started": "2022-03-02T21:15:47.276689Z"
    },
    "papermill": {
     "duration": 0.252176,
     "end_time": "2022-03-02T21:18:07.838605",
     "exception": false,
     "start_time": "2022-03-02T21:18:07.586429",
     "status": "completed"
    },
    "tags": []
   },
   "outputs": [
    {
     "data": {
      "text/html": [
       "<div>\n",
       "<style scoped>\n",
       "    .dataframe tbody tr th:only-of-type {\n",
       "        vertical-align: middle;\n",
       "    }\n",
       "\n",
       "    .dataframe tbody tr th {\n",
       "        vertical-align: top;\n",
       "    }\n",
       "\n",
       "    .dataframe thead th {\n",
       "        text-align: right;\n",
       "    }\n",
       "</style>\n",
       "<table border=\"1\" class=\"dataframe\">\n",
       "  <thead>\n",
       "    <tr style=\"text-align: right;\">\n",
       "      <th></th>\n",
       "      <th>x</th>\n",
       "      <th>y</th>\n",
       "      <th>direction</th>\n",
       "      <th>congestion</th>\n",
       "    </tr>\n",
       "    <tr>\n",
       "      <th>time</th>\n",
       "      <th></th>\n",
       "      <th></th>\n",
       "      <th></th>\n",
       "      <th></th>\n",
       "    </tr>\n",
       "  </thead>\n",
       "  <tbody>\n",
       "    <tr>\n",
       "      <th>1991-09-30 11:40:00</th>\n",
       "      <td>2</td>\n",
       "      <td>3</td>\n",
       "      <td>NB</td>\n",
       "      <td>54</td>\n",
       "    </tr>\n",
       "    <tr>\n",
       "      <th>1991-09-30 11:40:00</th>\n",
       "      <td>2</td>\n",
       "      <td>3</td>\n",
       "      <td>NE</td>\n",
       "      <td>28</td>\n",
       "    </tr>\n",
       "    <tr>\n",
       "      <th>1991-09-30 11:40:00</th>\n",
       "      <td>2</td>\n",
       "      <td>3</td>\n",
       "      <td>SB</td>\n",
       "      <td>68</td>\n",
       "    </tr>\n",
       "    <tr>\n",
       "      <th>1991-09-30 11:40:00</th>\n",
       "      <td>2</td>\n",
       "      <td>3</td>\n",
       "      <td>SW</td>\n",
       "      <td>17</td>\n",
       "    </tr>\n",
       "    <tr>\n",
       "      <th>1991-09-30 11:40:00</th>\n",
       "      <td>2</td>\n",
       "      <td>3</td>\n",
       "      <td>WB</td>\n",
       "      <td>24</td>\n",
       "    </tr>\n",
       "  </tbody>\n",
       "</table>\n",
       "</div>"
      ],
      "text/plain": [
       "                     x  y direction  congestion\n",
       "time                                           \n",
       "1991-09-30 11:40:00  2  3        NB          54\n",
       "1991-09-30 11:40:00  2  3        NE          28\n",
       "1991-09-30 11:40:00  2  3        SB          68\n",
       "1991-09-30 11:40:00  2  3        SW          17\n",
       "1991-09-30 11:40:00  2  3        WB          24"
      ]
     },
     "execution_count": 6,
     "metadata": {},
     "output_type": "execute_result"
    }
   ],
   "source": [
    "df[\"time\"] = pd.to_datetime(df[\"time\"])\n",
    "df = df.set_index(\"time\", drop = True)\n",
    "df = df.drop(\"row_id\", axis = 1)\n",
    "df.tail()"
   ]
  },
  {
   "cell_type": "code",
   "execution_count": 7,
   "id": "456516cf",
   "metadata": {
    "execution": {
     "iopub.execute_input": "2022-03-02T21:18:07.869298Z",
     "iopub.status.busy": "2022-03-02T21:18:07.868418Z",
     "iopub.status.idle": "2022-03-02T21:18:07.986842Z",
     "shell.execute_reply": "2022-03-02T21:18:07.987374Z",
     "shell.execute_reply.started": "2022-03-02T20:21:54.380059Z"
    },
    "papermill": {
     "duration": 0.13658,
     "end_time": "2022-03-02T21:18:07.987564",
     "exception": false,
     "start_time": "2022-03-02T21:18:07.850984",
     "status": "completed"
    },
    "tags": []
   },
   "outputs": [
    {
     "name": "stdout",
     "output_type": "stream",
     "text": [
      "<class 'pandas.core.frame.DataFrame'>\n",
      "DatetimeIndex: 848835 entries, 1991-04-01 00:00:00 to 1991-09-30 11:40:00\n",
      "Data columns (total 4 columns):\n",
      " #   Column      Non-Null Count   Dtype \n",
      "---  ------      --------------   ----- \n",
      " 0   x           848835 non-null  int64 \n",
      " 1   y           848835 non-null  int64 \n",
      " 2   direction   848835 non-null  object\n",
      " 3   congestion  848835 non-null  int64 \n",
      "dtypes: int64(3), object(1)\n",
      "memory usage: 32.4+ MB\n"
     ]
    }
   ],
   "source": [
    "df.info()"
   ]
  },
  {
   "cell_type": "code",
   "execution_count": 8,
   "id": "b680d42c",
   "metadata": {
    "execution": {
     "iopub.execute_input": "2022-03-02T21:18:08.017955Z",
     "iopub.status.busy": "2022-03-02T21:18:08.017020Z",
     "iopub.status.idle": "2022-03-02T21:18:08.152216Z",
     "shell.execute_reply": "2022-03-02T21:18:08.152678Z",
     "shell.execute_reply.started": "2022-03-02T21:06:15.207232Z"
    },
    "papermill": {
     "duration": 0.152485,
     "end_time": "2022-03-02T21:18:08.152860",
     "exception": false,
     "start_time": "2022-03-02T21:18:08.000375",
     "status": "completed"
    },
    "tags": []
   },
   "outputs": [
    {
     "data": {
      "text/plain": [
       "EB    156708\n",
       "NB    156708\n",
       "SB    156708\n",
       "WB    143649\n",
       "NE     91413\n",
       "SW     91413\n",
       "NW     26118\n",
       "SE     26118\n",
       "Name: direction, dtype: int64"
      ]
     },
     "execution_count": 8,
     "metadata": {},
     "output_type": "execute_result"
    }
   ],
   "source": [
    "df.direction.value_counts()"
   ]
  },
  {
   "cell_type": "code",
   "execution_count": null,
   "id": "293ff7d2",
   "metadata": {
    "papermill": {
     "duration": 0.012977,
     "end_time": "2022-03-02T21:18:08.179014",
     "exception": false,
     "start_time": "2022-03-02T21:18:08.166037",
     "status": "completed"
    },
    "tags": []
   },
   "outputs": [],
   "source": []
  }
 ],
 "metadata": {
  "kernelspec": {
   "display_name": "Python 3",
   "language": "python",
   "name": "python3"
  },
  "language_info": {
   "codemirror_mode": {
    "name": "ipython",
    "version": 3
   },
   "file_extension": ".py",
   "mimetype": "text/x-python",
   "name": "python",
   "nbconvert_exporter": "python",
   "pygments_lexer": "ipython3",
   "version": "3.7.12"
  },
  "papermill": {
   "default_parameters": {},
   "duration": 14.484896,
   "end_time": "2022-03-02T21:18:09.105866",
   "environment_variables": {},
   "exception": null,
   "input_path": "__notebook__.ipynb",
   "output_path": "__notebook__.ipynb",
   "parameters": {},
   "start_time": "2022-03-02T21:17:54.620970",
   "version": "2.3.3"
  }
 },
 "nbformat": 4,
 "nbformat_minor": 5
}
